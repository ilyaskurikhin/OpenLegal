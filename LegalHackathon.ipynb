{
 "cells": [
  {
   "cell_type": "markdown",
   "metadata": {},
   "source": [
    "# Extractor"
   ]
  },
  {
   "cell_type": "code",
   "execution_count": 10,
   "metadata": {},
   "outputs": [],
   "source": [
    "# -*- coding: utf-8 -*-\n",
    "\n",
    "from bs4 import BeautifulSoup\n",
    "import ssdeep\n",
    "import os\n",
    "import json\n",
    "\n",
    "\n",
    "def get_item(name):\n",
    "    # link\n",
    "    path = \"output/\" + name + \".html\"\n",
    "    \n",
    "    # file\n",
    "    file = open(path, \"r\", encoding=\"utf-8\")\n",
    "\n",
    "    # read file\n",
    "    html = BeautifulSoup(file.read())\n",
    "    \n",
    "    # the content of the page\n",
    "    content = html.find(\"div\", {\"id\": \"content\"})\n",
    "\n",
    "    # we want the Erwägung\n",
    "    erw = content.find('h1', text=\"Erwägungen\")\n",
    "\n",
    "    data = {}\n",
    "\n",
    "    # we take the paragraphs\n",
    "    paragraphs = []\n",
    "    \n",
    "    while erw:\n",
    "        if erw.find('strong') is not None:\n",
    "            paragraph = {}\n",
    "            \n",
    "            # the index of the paragraph\n",
    "            index = erw.find('strong').extract().text\n",
    "            paragraph[\"index\"] = index\n",
    "            \n",
    "            # we want the original text\n",
    "            paragraph[\"original\"] = str(erw.text)[1:]\n",
    "            \n",
    "            # we find the links\n",
    "            links = erw.findChildren(\"a\", {\"class\": \"LexLink\"})\n",
    "            hrefs = []\n",
    "            for link in links:\n",
    "                hrefs.append(link[\"href\"][1:])\n",
    "                link.extract()\n",
    "            paragraph[\"links\"] = hrefs\n",
    "            \n",
    "            # we remove to get text\n",
    "            thinsp = erw.findChildren(\"span\", {\"class\": \"thinsp\"})\n",
    "            for t in thinsp:\n",
    "                t.extract()\n",
    "            notes = erw.findChildren(\"span\", {\"class\": \"note\"})\n",
    "            for note in notes:\n",
    "                note.extract()\n",
    "            pagebk = erw.findChildren(\"span\", {\"class\": \"pagebreak\"})\n",
    "            for bk in pagebk:\n",
    "                bk.extract()\n",
    "            \n",
    "            # we save only the text\n",
    "            paragraph[\"content\"] = erw.text\n",
    "            \n",
    "            # we hash the text\n",
    "            paragraph[\"hash\"] = ssdeep.hash(bytes(erw.text, \"utf-8\"))\n",
    "            \n",
    "            # check that we have a big enough text\n",
    "            if len(paragraph[\"content\"]) > 10:\n",
    "                paragraphs.append(paragraph)\n",
    "                \n",
    "    \n",
    "        # next paragraph\n",
    "        erw = erw.findNext(\"p\")\n",
    "    \n",
    "    # save the paragraphs and return\n",
    "    data[\"paragraphs\"] = paragraphs\n",
    "    return data\n",
    "\n",
    "\n",
    "path = \"entscheide.txt\"\n",
    "with open(path, \"r\") as file:\n",
    "    names = file.read().splitlines()\n",
    "    \n",
    "output = {}\n",
    "for name in names:\n",
    "    output[name] = get_item(name)\n",
    "\n",
    "\n",
    "with open('json_data.json', 'w', encoding=\"utf-8\") as outfile:\n",
    "    content = json.dumps(output, indent=4, ensure_ascii=False)\n",
    "    outfile.write(content)"
   ]
  },
  {
   "cell_type": "code",
   "execution_count": 11,
   "metadata": {},
   "outputs": [],
   "source": [
    "import ssdeep\n",
    "import json\n",
    "with open('/home/ilya/openlegal/json_data.json', 'r') as inputfile:\n",
    "    data = json.loads(inputfile.read())\n"
   ]
  },
  {
   "cell_type": "markdown",
   "metadata": {},
   "source": [
    "# Comparison Matrix"
   ]
  },
  {
   "cell_type": "code",
   "execution_count": 35,
   "metadata": {},
   "outputs": [],
   "source": [
    "def compare_all_paragraphs(data):\n",
    "\n",
    "     \n",
    "    number_of_paragraphs = 0\n",
    "    #for decision in data:\n",
    "    #    for paragraph in decision:\n",
    "    #        number_of_paragraphs = number_of_paragraphs+1\n",
    "    \n",
    "    cmpmatrix = {}\n",
    "    hashlink = {}\n",
    "    \n",
    "    #compare_score_matrix = [[0 for _ in range(number_of_paragraphs)] for _ in range(number_of_paragraphs)]\n",
    "    for name1,decision1 in data.items():\n",
    "        for name2,decision2 in data.items():\n",
    "            if name1 == name2 or decision1 == decision2:\n",
    "                break\n",
    "            else:\n",
    "                for paragraph1 in data[name][\"paragraphs\"]:\n",
    "                    x = paragraph1[\"hash\"]\n",
    "                    for paragraph2 in data[name][\"paragraphs\"]:\n",
    "                        y = paragraph2[\"hash\"]\n",
    "                        compare = ssdeep.compare(x,y)\n",
    "                        \n",
    "                        if compare:\n",
    "                            #print(\"\\n\")\n",
    "                            #print(compare)\n",
    "                            #print(paragraph1[\"content\"])\n",
    "                            #print(paragraph2[\"content\"])\n",
    "                            xint = int.from_bytes(bytes(x,'ascii'),byteorder=\"big\") # big/small, this is arbitrary but MUST be constant\n",
    "                            yint = int.from_bytes(bytes(y,'ascii'),byteorder=\"big\") # big/small, this is arbitrary but MUST be constant\n",
    "                            if xint < yint:\n",
    "                                try:\n",
    "                                    cmpmatrix[x][y] = compare ## ordre correct!\n",
    "                                except KeyError:\n",
    "                                    cmpmatrix[x] = {y: compare}\n",
    "                            else:\n",
    "                                try:\n",
    "                                    cmpmatrix[y][x] = compare ## ordre correct!\n",
    "                                except KeyError:\n",
    "                                    cmpmatrix[y] = {x: compare}\n",
    "                            try:\n",
    "                                hashlink[x].append( ( name1, paragraph1['index']) )\n",
    "                            except KeyError:\n",
    "                                hashlink[x] = [( name1, paragraph1['index']) ]\n",
    "                            try:\n",
    "                                hashlink[y].append( ( name2, paragraph2['index']) )\n",
    "                            except KeyError:\n",
    "                                hashlink[y] = [( name2, paragraph2['index']) ]\n",
    "\n",
    "                        \n",
    "    return cmpmatrix\n",
    "                \n"
   ]
  },
  {
   "cell_type": "code",
   "execution_count": 36,
   "metadata": {},
   "outputs": [
    {
     "data": {
      "text/plain": [
       "{'12:QF4Jd5GO9ZOd47S+vAXhJf07xxMT31XWQXTlNJCRVEPWr2M:DRGO9ZOmLvAXHGCN4VEEb': {'12:QF4Jd5GO9ZOd47S+vAXhJf07xxMT31XWQXTlNJCRVEPWr2M:DRGO9ZOmLvAXHGCN4VEEb': 100},\n",
       " '3:olKXf3IrCL1eCSzROAxBAMgKyFFUA9LR2gLRgIFBGxh+H/jTrf:oYqCdSzwAxBA1KWeA9ljOIFeh+fjTb': {'3:olKXf3IrCL1eCSzROAxBAMgKyFFUA9LR2gLRgIFBGxh+H/jTrf:oYqCdSzwAxBA1KWeA9ljOIFeh+fjTb': 100},\n",
       " '48:WNbwyDWK+NagGf9nLOSEVpjO8N/xu4dBGch:WNb8ggyxipS8N/xu4dYch': {'48:WNbwyDWK+NagGf9nLOSEVpjO8N/xu4dBGch:WNb8ggyxipS8N/xu4dYch': 100},\n",
       " '6:oqUYVD1abzdOILEreNymiW454NyQBsM/eGmAQWNGNFr:1abzd/IreNyY4CM2cd': {'6:oqUYVD1abzdOILEreNymiW454NyQBsM/eGmAQWNGNFr:1abzd/IreNyY4CM2cd': 100},\n",
       " '24:DAlJU8xa1GKKgd+RZE9yX8ZtYbRRQ7j7g/9fHqRiIYRPAhgJ:AJUbEKhu/80bR8jupHk3gJ': {'24:DAlJU8xa1GKKgd+RZE9yX8ZtYbRRQ7j7g/9fHqRiIYRPAhgJ:AJUbEKhu/80bR8jupHk3gJ': 100},\n",
       " '3:B5r5P:H5P': {'3:B5r5P:H5P': 100},\n",
       " '6:r34UMGTFa8FHIAZ87hMpC3vM4dtyUzgtxQWKEQKW94X3G:T4cFNH9CtMpC3vTXUIWja+G': {'6:r34UMGTFa8FHIAZ87hMpC3vM4dtyUzgtxQWKEQKW94X3G:T4cFNH9CtMpC3vTXUIWja+G': 100},\n",
       " '12:lnh8S/MJL2wmYJTWgB6cLKS6kVOB09mA1DabX4e4O77+JscOtXjJ7fDVx2p2tqbn:lnhBawI36gIevkTpVw9biZmnJKE': {'12:lnh8S/MJL2wmYJTWgB6cLKS6kVOB09mA1DabX4e4O77+JscOtXjJ7fDVx2p2tqbn:lnhBawI36gIevkTpVw9biZmnJKE': 100},\n",
       " '3:HW2RFXApUL0a42XFS4+AWq1eCiF+EJT2LXel/3tVFJFRsuWFTKcSAHArn:HspQ0aBVSuWkdiF+E0jellDJSTVSAHAr': {'3:HW2RFXApUL0a42XFS4+AWq1eCiF+EJT2LXel/3tVFJFRsuWFTKcSAHArn:HspQ0aBVSuWkdiF+E0jellDJSTVSAHAr': 100},\n",
       " '6:XLnUBveGyQF/32Q4J0jeXA2L8sRiMvXbVOuLQlUPLFHb/RebFS2GXJ0YsFgXE8:DBQJR4J3LZRLVdLQl+HbZehjG+78': {'6:XLnUBveGyQF/32Q4J0jeXA2L8sRiMvXbVOuLQlUPLFHb/RebFS2GXJ0YsFgXE8:DBQJR4J3LZRLVdLQl+HbZehjG+78': 100},\n",
       " '12:aNndF/5YFmeAI0Ip72KGuXhXIBbh/y/AZ+ZChbn:CH/5YTzFBKK/Q+whbn': {'12:aNndF/5YFmeAI0Ip72KGuXhXIBbh/y/AZ+ZChbn:CH/5YTzFBKK/Q+whbn': 100},\n",
       " '12:W4bXOodJIFZxRRa4XJE8ZaG14GJrsKz2B5fEukK:WgXvdJI3FjXrZaG1zrVyT35': {'12:W4bXOodJIFZxRRa4XJE8ZaG14GJrsKz2B5fEukK:WgXvdJI3FjXrZaG1zrVyT35': 100},\n",
       " '24:0ci0XzUQ/V5DeoonvX7roST+jHy4Sq6hOOXOcWzcMYC3V/:UETeou/vT+j/Sq6YOXFWz3z3V/': {'24:0ci0XzUQ/V5DeoonvX7roST+jHy4Sq6hOOXOcWzcMYC3V/:UETeou/vT+j/Sq6YOXFWz3z3V/': 100},\n",
       " '24:2gKfDVXu1gGNnQxIKeQsdZBslQ5ZuJ28r3L8wULWrqg311raHfbwhDyM:kiNnQtsxQQ5Zuw8r3L8Aq2a/UheM': {'24:2gKfDVXu1gGNnQxIKeQsdZBslQ5ZuJ28r3L8wULWrqg311raHfbwhDyM:kiNnQtsxQQ5Zuw8r3L8Aq2a/UheM': 100},\n",
       " '24:jkklU8r3k5dSFDMejDzx3rN3GstuzGURoPQK7ia4Gf:zW8r3md6Df353GLGUR6/iPGf': {'24:jkklU8r3k5dSFDMejDzx3rN3GstuzGURoPQK7ia4Gf:zW8r3md6Df353GLGUR6/iPGf': 100},\n",
       " '12:51pAI9q/nY98uXJTezy0O1XWAz7DBzHMt3s0243:5Pp4Fyezy0OoGvBzsZJ243': {'12:51pAI9q/nY98uXJTezy0O1XWAz7DBzHMt3s0243:5Pp4Fyezy0OoGvBzsZJ243': 100},\n",
       " '12:jqNfUygIq//eAmvEHo8DwdDmLHTfBFGsnn+CdE///eI8k8RUaRaDb/Q2:2U7+Z8H0DmLHTfDn+CW/+IBqlRanR': {'12:jqNfUygIq//eAmvEHo8DwdDmLHTfBFGsnn+CdE///eI8k8RUaRaDb/Q2:2U7+Z8H0DmLHTfDn+CW/+IBqlRanR': 100}}"
      ]
     },
     "execution_count": 36,
     "metadata": {},
     "output_type": "execute_result"
    }
   ],
   "source": [
    "compare_all_paragraphs(data)\n"
   ]
  },
  {
   "cell_type": "code",
   "execution_count": 32,
   "metadata": {},
   "outputs": [],
   "source": [
    "with open('/home/ilya/openlegal/data_with_hash.json', 'w') as outfile:\n",
    "    outfile.write(json.dumps(data, indent=4))"
   ]
  },
  {
   "cell_type": "code",
   "execution_count": 33,
   "metadata": {},
   "outputs": [],
   "source": [
    "comparison_values = compare_all_paragraphs(data)\n",
    "\n",
    "with open('comparison_values.json', 'w', encoding=\"utf-8\") as outfile:\n",
    "    content = json.dumps(comparison_values, indent=4, ensure_ascii=False)\n",
    "    outfile.write(content)"
   ]
  },
  {
   "cell_type": "code",
   "execution_count": 29,
   "metadata": {},
   "outputs": [],
   "source": []
  },
  {
   "cell_type": "markdown",
   "metadata": {},
   "source": [
    "# Recursiv algorithm"
   ]
  },
  {
   "cell_type": "code",
   "execution_count": null,
   "metadata": {},
   "outputs": [],
   "source": [
    "def get(name, org_hash, data):\n",
    "    # try to get info from json\n",
    "    if data[name] is not None:\n",
    "               \n",
    "        matches = []\n",
    "        links = []\n",
    "\n",
    "        for paragraph in data[name][\"paragraphs\"]:\n",
    "            comp_hash = paragraph[\"hash\"]\n",
    "            \n",
    "            # get the score\n",
    "            d = ssdeep.compare(bytes(org_hash, \"utf-8\"), bytes(comp_hash, \"utf-8\"))\n",
    "            \n",
    "            # we go look at his links\n",
    "            if d > 0.7:\n",
    "                links.extend([link for link in paragraph[\"links\"]])\n",
    "                    \n",
    "                    \n",
    "            matches.append({\"name\": name, \n",
    "                            \"paragraph\": paragraph[\"index\"],\n",
    "                            \"score\": d})\n",
    "        \n",
    "        for link in list(set(links)):\n",
    "            matches.extend(get(link, hashh, data))\n",
    "       \n",
    "        # we set a threshold\n",
    "        return matches\n",
    "    \n",
    "    # we return a zero score\n",
    "    return 0"
   ]
  },
  {
   "cell_type": "code",
   "execution_count": null,
   "metadata": {},
   "outputs": [],
   "source": [
    "with open('json_data.json', 'r', encoding=\"utf-8\") as outfile:\n",
    "    data = json.load(outfile)\n",
    "    \n",
    "    name = \"141 II 272\"\n",
    "    org_hash = data[name][\"paragraphs\"][0][\"hash\"]\n",
    "    print(get(name, org_hash, data))\n",
    "    \n",
    "    "
   ]
  }
 ],
 "metadata": {
  "kernelspec": {
   "display_name": "Python 3 (ipykernel)",
   "language": "python",
   "name": "python3"
  },
  "language_info": {
   "codemirror_mode": {
    "name": "ipython",
    "version": 3
   },
   "file_extension": ".py",
   "mimetype": "text/x-python",
   "name": "python",
   "nbconvert_exporter": "python",
   "pygments_lexer": "ipython3",
   "version": "3.8.10"
  }
 },
 "nbformat": 4,
 "nbformat_minor": 4
}
