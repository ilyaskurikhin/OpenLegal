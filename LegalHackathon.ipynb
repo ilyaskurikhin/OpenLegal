{
 "cells": [
  {
   "cell_type": "code",
   "execution_count": 12,
   "metadata": {},
   "outputs": [],
   "source": [
    "# -*- coding: utf-8 -*-\n",
    "\n",
    "from bs4 import BeautifulSoup\n",
    "import os\n",
    "import json\n",
    "\n",
    "\n",
    "def get_item(name):\n",
    "    # link\n",
    "    path = \"output/\" + name + \".html\"\n",
    "    \n",
    "    # file\n",
    "    file = open(path, \"r\", encoding=\"utf-8\")\n",
    "\n",
    "    # read file\n",
    "    html = BeautifulSoup(file.read())\n",
    "    \n",
    "    # the content of the page\n",
    "    content = html.find(\"div\", {\"id\": \"content\"})\n",
    "\n",
    "    # we want the Erwägung\n",
    "    erw = content.find('h1', text=\"Erwägungen\")\n",
    "\n",
    "    data = {}\n",
    "\n",
    "    # we take the paragraphs\n",
    "    paragraphs = []\n",
    "    \n",
    "    while erw:\n",
    "        if erw.find('strong') is not None:\n",
    "            paragraph = {}\n",
    "            \n",
    "            # we want the original text\n",
    "            paragraph[\"original\"] = str(erw)\n",
    "            \n",
    "            # the index of the paragraph\n",
    "            index = erw.find('strong').extract().text\n",
    "            paragraph[\"index\"] = index\n",
    "            \n",
    "            # we find the links\n",
    "            links = erw.findChildren(\"a\", {\"class\": \"LexLink\"})\n",
    "            hrefs = []\n",
    "            for link in links:\n",
    "                hrefs.append(link[\"href\"][1:])\n",
    "                link.extract()\n",
    "            paragraph[\"links\"] = hrefs\n",
    "            \n",
    "            # we remove to get text\n",
    "            thinsp = erw.findChildren(\"span\", {\"class\": \"thinsp\"})\n",
    "            for t in thinsp:\n",
    "                t.extract()\n",
    "            notes = erw.findChildren(\"span\", {\"class\": \"note\"})\n",
    "            for note in notes:\n",
    "                note.extract()\n",
    "            pagebk = erw.findChildren(\"span\", {\"class\": \"pagebreak\"})\n",
    "            for bk in pagebk:\n",
    "                bk.extract()\n",
    "            \n",
    "            # we save only the text\n",
    "            paragraph[\"content\"] = erw.text\n",
    "            \n",
    "            # check that we have a big enough text\n",
    "            if len(paragraph[\"content\"]) > 10:\n",
    "                paragraphs.append(paragraph)\n",
    "                \n",
    "    \n",
    "        # next paragraph\n",
    "        erw = erw.findNext(\"p\")\n",
    "    \n",
    "    # save the paragraphs and return\n",
    "    data[\"paragraphs\"] = paragraphs\n",
    "    return data\n",
    "\n",
    "\n",
    "path = \"entscheide.txt\"\n",
    "with open(path, \"r\") as file:\n",
    "    names = file.read().splitlines()\n",
    "    \n",
    "output = {}\n",
    "for name in names:\n",
    "    output[name] = get_item(name)\n",
    "\n",
    "\n",
    "with open('json_data.json', 'w', encoding=\"utf-8\") as outfile:\n",
    "    content = json.dumps(output, indent=4, ensure_ascii=False)\n",
    "    outfile.write(content)"
   ]
  },
  {
   "cell_type": "code",
   "execution_count": 30,
   "metadata": {},
   "outputs": [],
   "source": [
    "import ssdeep\n",
    "import json\n",
    "with open('/home/ilya/openlegal/json_data.json', 'r') as inputfile:\n",
    "    data = json.loads(inputfile.read())\n"
   ]
  },
  {
   "cell_type": "code",
   "execution_count": 41,
   "metadata": {},
   "outputs": [],
   "source": [
    "def hash_all_paragraphs(data):\n",
    "    #count the hashes done so we can report something\n",
    "    hash_counter = 0\n",
    "    \n",
    "    for decision in data:\n",
    "        for paragraph in decision[\"paragraphs\"]:\n",
    "            content = paragraph['content']\n",
    "            paragraph[\"hash\"] = ssdeep.hash(content)\n",
    "            \n",
    "    print(hash_counter)\n"
   ]
  },
  {
   "cell_type": "code",
   "execution_count": 114,
   "metadata": {},
   "outputs": [],
   "source": [
    "def compare_all_paragraphs(data):\n",
    "\n",
    "     \n",
    "    number_of_paragraphs = 0\n",
    "    #for decision in data:\n",
    "    #    for paragraph in decision:\n",
    "    #        number_of_paragraphs = number_of_paragraphs+1\n",
    "    \n",
    "    cmpmatrix = {}\n",
    "    hashlink = {}\n",
    "    \n",
    "    #compare_score_matrix = [[0 for _ in range(number_of_paragraphs)] for _ in range(number_of_paragraphs)]\n",
    "    for decision1 in data:\n",
    "        for decision2 in data:\n",
    "            if decision1 == decision2:\n",
    "                break\n",
    "            else:\n",
    "                for paragraph1 in decision1[\"paragraphs\"]:\n",
    "                    x = paragraph1[\"hash\"]\n",
    "                    for paragraph2 in decision2[\"paragraphs\"]:\n",
    "                        y = paragraph2[\"hash\"]\n",
    "                        compare = ssdeep.compare(x,y)\n",
    "                        \n",
    "                        if compare:\n",
    "                            #print(\"\\n\")\n",
    "                            #print(compare)\n",
    "                            #print(paragraph1[\"content\"])\n",
    "                            #print(paragraph2[\"content\"])\n",
    "                            xint = int.from_bytes(bytes(x,'ascii'),byteorder=\"big\") # big/small, this is arbitrary but MUST be constant\n",
    "                            yint = int.from_bytes(bytes(y,'ascii'),byteorder=\"big\") # big/small, this is arbitrary but MUST be constant\n",
    "                            if xint < yint:\n",
    "                                try:\n",
    "                                    cmpmatrix[x][y] = compare ## ordre correct!\n",
    "                                except KeyError:\n",
    "                                    cmpmatrix[x] = {y: compare}\n",
    "                            else:\n",
    "                                try:\n",
    "                                    cmpmatrix[y][x] = compare ## ordre correct!\n",
    "                                except KeyError:\n",
    "                                    cmpmatrix[y] = {x: compare}\n",
    "                            try:\n",
    "                                hashlink[x].append( ( decision1['name'], paragraph1['index']) )\n",
    "                            except KeyError:\n",
    "                                hashlink[x] = [( decision1['name'], paragraph1['index']) ]\n",
    "                            try:\n",
    "                                hashlink[y].append( ( decision2['name'], paragraph2['index']) )\n",
    "                            except KeyError:\n",
    "                                hashlink[y] = [( decision2['name'], paragraph2['index']) ]\n",
    "\n",
    "                        \n",
    "    print(cmpmatrix)\n",
    "                \n"
   ]
  },
  {
   "cell_type": "code",
   "execution_count": 52,
   "metadata": {},
   "outputs": [
    {
     "name": "stdout",
     "output_type": "stream",
     "text": [
      "0\n"
     ]
    }
   ],
   "source": [
    "hash_all_paragraphs(data)"
   ]
  },
  {
   "cell_type": "code",
   "execution_count": 38,
   "metadata": {},
   "outputs": [],
   "source": [
    "with open('/home/ilya/openlegal/data_with_hash.json', 'w') as outfile:\n",
    "    outfile.write(json.dumps(data, indent=4))"
   ]
  },
  {
   "cell_type": "code",
   "execution_count": 115,
   "metadata": {},
   "outputs": [
    {
     "name": "stdout",
     "output_type": "stream",
     "text": [
      "{'12:AEqZMFdJ2ZIQvxqpAHaIy7JPaR8VeevKo9wWnaIiBQ1FBXVM+AVN:Al0mxvYI+7JCaVHKo9wWnTz/BXVM/VN': {'12:AEqZMFbaqZIQvxqpAHaIy7JPaR8TevKo9wWnaIiBAokYXE30L/FmA1GE61ckoMO:Al0JxvYI+7JCa+Ko9wWnTENXEkSE66MO': 68, '12:AEqZMFdJqZIQvxqpAHaIy7JPaR8VeevKo9wWnaIiBQ1FBXVM+AVN:Al0CxvYI+7JCaVHKo9wWnTz/BXVM/VN': 99}, '24:Al0CxvYI+7JCaVHKo9wWnTz/BXVM/ivwAR2rPn+Fa2jRQ:ACC5Yz7JrVq2tnhVgivwq2bn+Fa2jRQ': {'12:AEqZMFbaqZIQvxqpAHaIy7JPaR8TevKo9wWnaIiBAokYXE30L/FmA1GE61ckoMO:Al0JxvYI+7JCa+Ko9wWnTENXEkSE66MO': 55, '12:AEqZMFdJ2ZIQvxqpAHaIy7JPaR8VeevKo9wWnaIiBQ1FBXVM+AVN:Al0mxvYI+7JCaVHKo9wWnTz/BXVM/VN': 75, '12:AEqZMFdJqZIQvxqpAHaIy7JPaR8VeevKo9wWnaIiBQ1FBXVM+AVN:Al0CxvYI+7JCaVHKo9wWnTz/BXVM/VN': 77}, '24:aLDcMqmU136BVG2AnEmTEZZ3FyDNNgvnN7KKKCUrZkBTsy:aLDSmU13L2jZGDN2fu9iBp': {'12:4Emtm13qPIRpqtBCWHmvC1lNWn7AmznM65T4eG6sE1euhzzlNKjApgwXslhxFg9I:4EmU136BVGHnEmrMUTqFyDNNgWEPMcLH': 47}, '6:NMdcAF2igrclfDav8VJOTjzyiV7+E/MYU8ncIO574EKtvxP9F1jY26IQAFXs:NCF2iY6fDakUiiV6B8y57RcrFd+IvXs': {'3:NMGKcAF28Rd2o8KFydPRXRVzAF8eg+xbRxZDmCMC7umWF9zD8XqMYLRFvYmMpAwJ:NMdcAF2aclPRXzAQ+xbcqumWPzIX3YLg': 33}, '12:AEqZMFdJqZIQvxqpAHaIy7JPaR8VeevKo9wWnaIiBQ1FBXVM+AVN:Al0CxvYI+7JCaVHKo9wWnTz/BXVM/VN': {'12:AEqZMFbaqZIQvxqpAHaIy7JPaR8TevKo9wWnaIiBAokYXE30L/FmA1GE61ckoMO:Al0JxvYI+7JCa+Ko9wWnTENXEkSE66MO': 69}}\n"
     ]
    }
   ],
   "source": [
    "compare_all_paragraphs(data)"
   ]
  },
  {
   "cell_type": "code",
   "execution_count": null,
   "metadata": {},
   "outputs": [],
   "source": []
  },
  {
   "cell_type": "code",
   "execution_count": null,
   "metadata": {},
   "outputs": [],
   "source": []
  }
 ],
 "metadata": {
  "kernelspec": {
   "display_name": "Python 3 (ipykernel)",
   "language": "python",
   "name": "python3"
  },
  "language_info": {
   "codemirror_mode": {
    "name": "ipython",
    "version": 3
   },
   "file_extension": ".py",
   "mimetype": "text/x-python",
   "name": "python",
   "nbconvert_exporter": "python",
   "pygments_lexer": "ipython3",
   "version": "3.8.10"
  }
 },
 "nbformat": 4,
 "nbformat_minor": 4
}
