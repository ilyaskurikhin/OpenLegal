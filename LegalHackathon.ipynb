{
 "cells": [
  {
   "cell_type": "markdown",
   "metadata": {},
   "source": [
    "# Extractor"
   ]
  },
  {
   "cell_type": "code",
   "execution_count": 1,
   "metadata": {},
   "outputs": [
    {
     "ename": "FileNotFoundError",
     "evalue": "[Errno 2] No such file or directory: 'entscheide.txt'",
     "output_type": "error",
     "traceback": [
      "\u001b[0;31m---------------------------------------------------------------------------\u001b[0m",
      "\u001b[0;31mFileNotFoundError\u001b[0m                         Traceback (most recent call last)",
      "\u001b[0;32m<ipython-input-1-cc8baf5cf160>\u001b[0m in \u001b[0;36m<module>\u001b[0;34m\u001b[0m\n\u001b[1;32m     78\u001b[0m \u001b[0;34m\u001b[0m\u001b[0m\n\u001b[1;32m     79\u001b[0m \u001b[0mpath\u001b[0m \u001b[0;34m=\u001b[0m \u001b[0;34m\"entscheide.txt\"\u001b[0m\u001b[0;34m\u001b[0m\u001b[0;34m\u001b[0m\u001b[0m\n\u001b[0;32m---> 80\u001b[0;31m \u001b[0;32mwith\u001b[0m \u001b[0mopen\u001b[0m\u001b[0;34m(\u001b[0m\u001b[0mpath\u001b[0m\u001b[0;34m,\u001b[0m \u001b[0;34m\"r\"\u001b[0m\u001b[0;34m)\u001b[0m \u001b[0;32mas\u001b[0m \u001b[0mfile\u001b[0m\u001b[0;34m:\u001b[0m\u001b[0;34m\u001b[0m\u001b[0;34m\u001b[0m\u001b[0m\n\u001b[0m\u001b[1;32m     81\u001b[0m     \u001b[0mnames\u001b[0m \u001b[0;34m=\u001b[0m \u001b[0mfile\u001b[0m\u001b[0;34m.\u001b[0m\u001b[0mread\u001b[0m\u001b[0;34m(\u001b[0m\u001b[0;34m)\u001b[0m\u001b[0;34m.\u001b[0m\u001b[0msplitlines\u001b[0m\u001b[0;34m(\u001b[0m\u001b[0;34m)\u001b[0m\u001b[0;34m\u001b[0m\u001b[0;34m\u001b[0m\u001b[0m\n\u001b[1;32m     82\u001b[0m \u001b[0;34m\u001b[0m\u001b[0m\n",
      "\u001b[0;31mFileNotFoundError\u001b[0m: [Errno 2] No such file or directory: 'entscheide.txt'"
     ]
    }
   ],
   "source": [
    "# -*- coding: utf-8 -*-\n",
    "\n",
    "from bs4 import BeautifulSoup\n",
    "import ssdeep\n",
    "import os\n",
    "import json\n",
    "\n",
    "\n",
    "def get_item(name):\n",
    "    # link\n",
    "    path = \"output/\" + name + \".html\"\n",
    "    \n",
    "    # file\n",
    "    file = open(path, \"r\", encoding=\"utf-8\")\n",
    "\n",
    "    # read file\n",
    "    html = BeautifulSoup(file.read())\n",
    "    \n",
    "    # the content of the page\n",
    "    content = html.find(\"div\", {\"id\": \"content\"})\n",
    "\n",
    "    # we want the Erwägung\n",
    "    erw = content.find('h1', text=\"Erwägungen\")\n",
    "\n",
    "    data = {}\n",
    "\n",
    "    # we take the paragraphs\n",
    "    paragraphs = []\n",
    "    \n",
    "    while erw:\n",
    "        if erw.find('strong') is not None:\n",
    "            paragraph = {}\n",
    "            \n",
    "            # the index of the paragraph\n",
    "            index = erw.find('strong').extract().text\n",
    "            paragraph[\"index\"] = index\n",
    "            \n",
    "            # we want the original text\n",
    "            paragraph[\"original\"] = str(erw.text)[1:]\n",
    "            \n",
    "            # we find the links\n",
    "            links = erw.findChildren(\"a\", {\"class\": \"LexLink\"})\n",
    "            hrefs = []\n",
    "            for link in links:\n",
    "                hrefs.append(link[\"href\"][1:])\n",
    "                link.extract()\n",
    "            paragraph[\"links\"] = hrefs\n",
    "            \n",
    "            # we remove to get text\n",
    "            thinsp = erw.findChildren(\"span\", {\"class\": \"thinsp\"})\n",
    "            for t in thinsp:\n",
    "                t.extract()\n",
    "            notes = erw.findChildren(\"span\", {\"class\": \"note\"})\n",
    "            for note in notes:\n",
    "                note.extract()\n",
    "            pagebk = erw.findChildren(\"span\", {\"class\": \"pagebreak\"})\n",
    "            for bk in pagebk:\n",
    "                bk.extract()\n",
    "            \n",
    "            # we save only the text\n",
    "            paragraph[\"content\"] = erw.text\n",
    "            \n",
    "            # we hash the text\n",
    "            paragraph[\"hash\"] = ssdeep.hash(bytes(erw.text, \"utf-8\"))\n",
    "            \n",
    "            # check that we have a big enough text\n",
    "            if len(paragraph[\"content\"]) > 10:\n",
    "                paragraphs.append(paragraph)\n",
    "                \n",
    "    \n",
    "        # next paragraph\n",
    "        erw = erw.findNext(\"p\")\n",
    "    \n",
    "    # save the paragraphs and return\n",
    "    data[\"paragraphs\"] = paragraphs\n",
    "    return data\n",
    "\n",
    "\n",
    "path = \"entscheide.txt\"\n",
    "with open(path, \"r\") as file:\n",
    "    names = file.read().splitlines()\n",
    "    \n",
    "output = {}\n",
    "for name in names:\n",
    "    output[name] = get_item(name)\n",
    "\n",
    "\n",
    "with open('json_data.json', 'w', encoding=\"utf-8\") as outfile:\n",
    "    content = json.dumps(output, indent=4, ensure_ascii=False)\n",
    "    outfile.write(content)"
   ]
  },
  {
   "cell_type": "code",
   "execution_count": 4,
   "metadata": {},
   "outputs": [],
   "source": [
    "import ssdeep\n",
    "import json\n",
    "with open('/home/ilya/openlegal/json_data.json', 'r') as inputfile:\n",
    "    data = json.loads(inputfile.read())\n"
   ]
  },
  {
   "cell_type": "markdown",
   "metadata": {},
   "source": [
    "# Comparison Matrix"
   ]
  },
  {
   "cell_type": "code",
   "execution_count": 35,
   "metadata": {},
   "outputs": [],
   "source": [
    "def compare_all_paragraphs(data):\n",
    "\n",
    "     \n",
    "    number_of_paragraphs = 0\n",
    "    #for decision in data:\n",
    "    #    for paragraph in decision:\n",
    "    #        number_of_paragraphs = number_of_paragraphs+1\n",
    "    \n",
    "    cmpmatrix = {}\n",
    "    hashlink = {}\n",
    "    \n",
    "    #compare_score_matrix = [[0 for _ in range(number_of_paragraphs)] for _ in range(number_of_paragraphs)]\n",
    "    for decision1 in data:\n",
    "        for decision2 in data:\n",
    "            if decision1 == decision2:\n",
    "                break\n",
    "            else:\n",
    "                for paragraph1 in decision1[\"paragraphs\"]:\n",
    "                    x = paragraph1[\"hash\"]\n",
    "                    for paragraph2 in decision2[\"paragraphs\"]:\n",
    "                        y = paragraph2[\"hash\"]\n",
    "                        compare = ssdeep.compare(x,y)\n",
    "                        \n",
    "                        if compare:\n",
    "                            #print(\"\\n\")\n",
    "                            #print(compare)\n",
    "                            #print(paragraph1[\"content\"])\n",
    "                            #print(paragraph2[\"content\"])\n",
    "                            xint = int.from_bytes(bytes(x,'ascii'),byteorder=\"big\") # big/small, this is arbitrary but MUST be constant\n",
    "                            yint = int.from_bytes(bytes(y,'ascii'),byteorder=\"big\") # big/small, this is arbitrary but MUST be constant\n",
    "                            if xint < yint:\n",
    "                                try:\n",
    "                                    cmpmatrix[x][y] = compare ## ordre correct!\n",
    "                                except KeyError:\n",
    "                                    cmpmatrix[x] = {y: compare}\n",
    "                            else:\n",
    "                                try:\n",
    "                                    cmpmatrix[y][x] = compare ## ordre correct!\n",
    "                                except KeyError:\n",
    "                                    cmpmatrix[y] = {x: compare}\n",
    "                            try:\n",
    "                                hashlink[x].append( ( decision1['name'], paragraph1['index']) )\n",
    "                            except KeyError:\n",
    "                                hashlink[x] = [( decision1['name'], paragraph1['index']) ]\n",
    "                            try:\n",
    "                                hashlink[y].append( ( decision2['name'], paragraph2['index']) )\n",
    "                            except KeyError:\n",
    "                                hashlink[y] = [( decision2['name'], paragraph2['index']) ]\n",
    "\n",
    "                        \n",
    "    print(cmpmatrix)\n",
    "                \n"
   ]
  },
  {
   "cell_type": "code",
   "execution_count": 36,
   "metadata": {},
   "outputs": [
    {
     "ename": "TypeError",
     "evalue": "string indices must be integers",
     "output_type": "error",
     "traceback": [
      "\u001b[0;31m---------------------------------------------------------------------------\u001b[0m",
      "\u001b[0;31mTypeError\u001b[0m                                 Traceback (most recent call last)",
      "Input \u001b[0;32mIn [36]\u001b[0m, in \u001b[0;36m<cell line: 1>\u001b[0;34m()\u001b[0m\n\u001b[0;32m----> 1\u001b[0m \u001b[43mhash_all_paragraphs\u001b[49m\u001b[43m(\u001b[49m\u001b[43mdata\u001b[49m\u001b[43m)\u001b[49m\n",
      "Input \u001b[0;32mIn [34]\u001b[0m, in \u001b[0;36mhash_all_paragraphs\u001b[0;34m(data)\u001b[0m\n\u001b[1;32m      1\u001b[0m \u001b[38;5;28;01mdef\u001b[39;00m \u001b[38;5;21mhash_all_paragraphs\u001b[39m(data):\n\u001b[1;32m      2\u001b[0m     \u001b[38;5;28;01mfor\u001b[39;00m decision \u001b[38;5;129;01min\u001b[39;00m data:\n\u001b[0;32m----> 3\u001b[0m         \u001b[38;5;28;01mfor\u001b[39;00m paragraph \u001b[38;5;129;01min\u001b[39;00m \u001b[43mdecision\u001b[49m\u001b[43m[\u001b[49m\u001b[38;5;124;43m\"\u001b[39;49m\u001b[38;5;124;43mparagraphs\u001b[39;49m\u001b[38;5;124;43m\"\u001b[39;49m\u001b[43m]\u001b[49m:\n\u001b[1;32m      4\u001b[0m             content \u001b[38;5;241m=\u001b[39m paragraph[\u001b[38;5;124m'\u001b[39m\u001b[38;5;124mcontent\u001b[39m\u001b[38;5;124m'\u001b[39m]\n\u001b[1;32m      5\u001b[0m             paragraph[\u001b[38;5;124m\"\u001b[39m\u001b[38;5;124mhash\u001b[39m\u001b[38;5;124m\"\u001b[39m] \u001b[38;5;241m=\u001b[39m ssdeep\u001b[38;5;241m.\u001b[39mhash(content)\n",
      "\u001b[0;31mTypeError\u001b[0m: string indices must be integers"
     ]
    }
   ],
   "source": [
    "hash_all_paragraphs(data)"
   ]
  },
  {
   "cell_type": "code",
   "execution_count": 38,
   "metadata": {},
   "outputs": [],
   "source": [
    "with open('/home/ilya/openlegal/data_with_hash.json', 'w') as outfile:\n",
    "    outfile.write(json.dumps(data, indent=4))"
   ]
  },
  {
   "cell_type": "code",
   "execution_count": 115,
   "metadata": {},
   "outputs": [
    {
     "name": "stdout",
     "output_type": "stream",
     "text": [
      "{'12:AEqZMFdJ2ZIQvxqpAHaIy7JPaR8VeevKo9wWnaIiBQ1FBXVM+AVN:Al0mxvYI+7JCaVHKo9wWnTz/BXVM/VN': {'12:AEqZMFbaqZIQvxqpAHaIy7JPaR8TevKo9wWnaIiBAokYXE30L/FmA1GE61ckoMO:Al0JxvYI+7JCa+Ko9wWnTENXEkSE66MO': 68, '12:AEqZMFdJqZIQvxqpAHaIy7JPaR8VeevKo9wWnaIiBQ1FBXVM+AVN:Al0CxvYI+7JCaVHKo9wWnTz/BXVM/VN': 99}, '24:Al0CxvYI+7JCaVHKo9wWnTz/BXVM/ivwAR2rPn+Fa2jRQ:ACC5Yz7JrVq2tnhVgivwq2bn+Fa2jRQ': {'12:AEqZMFbaqZIQvxqpAHaIy7JPaR8TevKo9wWnaIiBAokYXE30L/FmA1GE61ckoMO:Al0JxvYI+7JCa+Ko9wWnTENXEkSE66MO': 55, '12:AEqZMFdJ2ZIQvxqpAHaIy7JPaR8VeevKo9wWnaIiBQ1FBXVM+AVN:Al0mxvYI+7JCaVHKo9wWnTz/BXVM/VN': 75, '12:AEqZMFdJqZIQvxqpAHaIy7JPaR8VeevKo9wWnaIiBQ1FBXVM+AVN:Al0CxvYI+7JCaVHKo9wWnTz/BXVM/VN': 77}, '24:aLDcMqmU136BVG2AnEmTEZZ3FyDNNgvnN7KKKCUrZkBTsy:aLDSmU13L2jZGDN2fu9iBp': {'12:4Emtm13qPIRpqtBCWHmvC1lNWn7AmznM65T4eG6sE1euhzzlNKjApgwXslhxFg9I:4EmU136BVGHnEmrMUTqFyDNNgWEPMcLH': 47}, '6:NMdcAF2igrclfDav8VJOTjzyiV7+E/MYU8ncIO574EKtvxP9F1jY26IQAFXs:NCF2iY6fDakUiiV6B8y57RcrFd+IvXs': {'3:NMGKcAF28Rd2o8KFydPRXRVzAF8eg+xbRxZDmCMC7umWF9zD8XqMYLRFvYmMpAwJ:NMdcAF2aclPRXzAQ+xbcqumWPzIX3YLg': 33}, '12:AEqZMFdJqZIQvxqpAHaIy7JPaR8VeevKo9wWnaIiBQ1FBXVM+AVN:Al0CxvYI+7JCaVHKo9wWnTz/BXVM/VN': {'12:AEqZMFbaqZIQvxqpAHaIy7JPaR8TevKo9wWnaIiBAokYXE30L/FmA1GE61ckoMO:Al0JxvYI+7JCa+Ko9wWnTENXEkSE66MO': 69}}\n"
     ]
    }
   ],
   "source": [
    "compare_all_paragraphs(data)"
   ]
  },
  {
   "cell_type": "code",
   "execution_count": null,
   "metadata": {},
   "outputs": [],
   "source": [
    "# new decision\n",
    "for p in paragraphs:\n",
    "    thishash = hash(p)\n",
    "    try:\n",
    "        cmpmatrix[p]\n",
    "    except KeyError:\n",
    "        for h in cmpmatrix.keys():# keys must be ordered by int.from_bytes()\n",
    "            # TODO stop if h is greater than thishash\n",
    "            try:\n",
    "                score = cmpmatrix[h][thishash]\n",
    "            except KeyError:\n",
    "                "
   ]
  },
  {
   "cell_type": "markdown",
   "metadata": {},
   "source": [
    "# Recursiv algorithm"
   ]
  },
  {
   "cell_type": "code",
   "execution_count": null,
   "metadata": {},
   "outputs": [],
   "source": [
    "def get(name, org_hash, data):\n",
    "    # try to get info from json\n",
    "    if data[name] is not None:\n",
    "               \n",
    "        matches = []\n",
    "        links = []\n",
    "\n",
    "        for paragraph in data[name][\"paragraphs\"]:\n",
    "            comp_hash = paragraph[\"hash\"]\n",
    "            \n",
    "            # get the score\n",
    "            d = ssdeep.compare(bytes(org_hash, \"utf-8\"), bytes(comp_hash, \"utf-8\"))\n",
    "            \n",
    "            # we go look at his links\n",
    "            if d > 0.7:\n",
    "                links.extend([link for link in paragraph[\"links\"]])\n",
    "                    \n",
    "                    \n",
    "            matches.append({\"name\": name, \n",
    "                            \"paragraph\": paragraph[\"index\"],\n",
    "                            \"score\": d})\n",
    "        \n",
    "        for link in list(set(links)):\n",
    "            matches.extend(get(link, hashh, data))\n",
    "       \n",
    "        # we set a threshold\n",
    "        return matches\n",
    "    \n",
    "    # we return a zero score\n",
    "    return 0"
   ]
  },
  {
   "cell_type": "code",
   "execution_count": null,
   "metadata": {},
   "outputs": [],
   "source": [
    "with open('json_data.json', 'r', encoding=\"utf-8\") as outfile:\n",
    "    data = json.load(outfile)\n",
    "    \n",
    "    name = \"141 II 272\"\n",
    "    org_hash = data[name][\"paragraphs\"][0][\"hash\"]\n",
    "    print(get(name, org_hash, data))\n",
    "    \n",
    "    "
   ]
  }
 ],
 "metadata": {
  "kernelspec": {
   "display_name": "Python 3",
   "language": "python",
   "name": "python3"
  },
  "language_info": {
   "codemirror_mode": {
    "name": "ipython",
    "version": 3
   },
   "file_extension": ".py",
   "mimetype": "text/x-python",
   "name": "python",
   "nbconvert_exporter": "python",
   "pygments_lexer": "ipython3",
   "version": "3.7.4"
  }
 },
 "nbformat": 4,
 "nbformat_minor": 4
}
